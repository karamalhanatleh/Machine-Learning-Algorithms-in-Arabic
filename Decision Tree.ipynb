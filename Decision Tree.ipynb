{
 "cells": [
  {
   "cell_type": "markdown",
   "id": "5940f228",
   "metadata": {},
   "source": [
    "# Decision Tree"
   ]
  },
  {
   "cell_type": "markdown",
   "id": "7652ef87",
   "metadata": {},
   "source": [
    "<img src=\"Decision Tree.png\"></img>"
   ]
  },
  {
   "cell_type": "markdown",
   "id": "905099f0",
   "metadata": {},
   "source": [
    "### Supervised - classification - Regression"
   ]
  },
  {
   "cell_type": "markdown",
   "id": "f23055cc",
   "metadata": {},
   "source": [
    "### التعلم بأشراف - توقع -  التصنيف"
   ]
  },
  {
   "cell_type": "markdown",
   "id": "cdf1d1d2",
   "metadata": {},
   "source": [
    "### تعمل لكل من المتغيرات المستقلة الفئوية والمستمرة"
   ]
  },
  {
   "cell_type": "markdown",
   "id": "c30aef22",
   "metadata": {},
   "source": [
    " "
   ]
  },
  {
   "cell_type": "code",
   "execution_count": 2,
   "id": "ec8a99dc",
   "metadata": {},
   "outputs": [],
   "source": [
    "from sklearn import tree\n"
   ]
  },
  {
   "cell_type": "code",
   "execution_count": 4,
   "id": "b9ee5a00",
   "metadata": {},
   "outputs": [],
   "source": [
    "train_data = [[0,0], [1,0], [0,1],[1,1]] \n",
    "train_labels = [0,1,1,0] \n",
    "test_data = [[0,0], [1,0], [0,1],[1,1]]\n"
   ]
  },
  {
   "cell_type": "code",
   "execution_count": 22,
   "id": "0bef28db",
   "metadata": {},
   "outputs": [
    {
     "name": "stdout",
     "output_type": "stream",
     "text": [
      "\n",
      "The Model Score :  1.0\n"
     ]
    }
   ],
   "source": [
    "\n",
    "model = tree.DecisionTreeClassifier(criterion=\"gini\")  #Classifier\n",
    "\n",
    "model.fit(train_data, train_labels) \n",
    "print(\"\\nThe Model Score : \", model.score(train_data, train_labels))\n"
   ]
  },
  {
   "cell_type": "code",
   "execution_count": 23,
   "id": "a6fde7a7",
   "metadata": {},
   "outputs": [
    {
     "name": "stdout",
     "output_type": "stream",
     "text": [
      "Prediction: [0 1 1 0]\n"
     ]
    }
   ],
   "source": [
    "predicte=model.predict(test_data)\n",
    "\n",
    "print(\"Prediction:\",predicte)"
   ]
  },
  {
   "cell_type": "code",
   "execution_count": null,
   "id": "15187e69",
   "metadata": {},
   "outputs": [],
   "source": []
  },
  {
   "cell_type": "markdown",
   "id": "10a8afc7",
   "metadata": {},
   "source": [
    "### ex2"
   ]
  },
  {
   "cell_type": "code",
   "execution_count": 24,
   "id": "f82333bf",
   "metadata": {},
   "outputs": [],
   "source": [
    "from sklearn import tree"
   ]
  },
  {
   "cell_type": "code",
   "execution_count": 25,
   "id": "a552823a",
   "metadata": {},
   "outputs": [],
   "source": [
    "X= [[0,0] , [2,2] ]\n",
    "y= [0.5 ,2.5]"
   ]
  },
  {
   "cell_type": "code",
   "execution_count": 26,
   "id": "03623720",
   "metadata": {},
   "outputs": [],
   "source": [
    "clf = tree.DecisionTreeRegressor()  #Regressor"
   ]
  },
  {
   "cell_type": "code",
   "execution_count": 27,
   "id": "abd83354",
   "metadata": {},
   "outputs": [
    {
     "data": {
      "text/plain": [
       "DecisionTreeRegressor()"
      ]
     },
     "execution_count": 27,
     "metadata": {},
     "output_type": "execute_result"
    }
   ],
   "source": [
    "clf.fit(X,y)"
   ]
  },
  {
   "cell_type": "code",
   "execution_count": 28,
   "id": "6d82cf73",
   "metadata": {},
   "outputs": [
    {
     "data": {
      "text/plain": [
       "1.0"
      ]
     },
     "execution_count": 28,
     "metadata": {},
     "output_type": "execute_result"
    }
   ],
   "source": [
    "clf.score(X,y)"
   ]
  },
  {
   "cell_type": "code",
   "execution_count": 29,
   "id": "ee7c0d4d",
   "metadata": {},
   "outputs": [
    {
     "data": {
      "text/plain": [
       "array([0.5])"
      ]
     },
     "execution_count": 29,
     "metadata": {},
     "output_type": "execute_result"
    }
   ],
   "source": [
    "clf.predict([[1,1]])"
   ]
  },
  {
   "cell_type": "code",
   "execution_count": null,
   "id": "8c8aec98",
   "metadata": {},
   "outputs": [],
   "source": []
  }
 ],
 "metadata": {
  "kernelspec": {
   "display_name": "Python 3 (ipykernel)",
   "language": "python",
   "name": "python3"
  },
  "language_info": {
   "codemirror_mode": {
    "name": "ipython",
    "version": 3
   },
   "file_extension": ".py",
   "mimetype": "text/x-python",
   "name": "python",
   "nbconvert_exporter": "python",
   "pygments_lexer": "ipython3",
   "version": "3.9.7"
  }
 },
 "nbformat": 4,
 "nbformat_minor": 5
}
