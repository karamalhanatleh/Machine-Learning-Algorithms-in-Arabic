{
 "cells": [
  {
   "cell_type": "markdown",
   "id": "53d5d8ff",
   "metadata": {},
   "source": [
    "# K-Means"
   ]
  },
  {
   "cell_type": "markdown",
   "id": "740009ae",
   "metadata": {},
   "source": [
    "<img src=\"K-Means.png\"></img>"
   ]
  },
  {
   "cell_type": "markdown",
   "id": "c25ab180",
   "metadata": {},
   "source": [
    "### Unsupervised - clusterin"
   ]
  },
  {
   "cell_type": "markdown",
   "id": "c39f4c3b",
   "metadata": {},
   "source": [
    "### التعلم بدون اشراف - التجميع"
   ]
  },
  {
   "cell_type": "code",
   "execution_count": 5,
   "id": "6ff4dc4e",
   "metadata": {},
   "outputs": [],
   "source": [
    "import numpy as np\n",
    "import matplotlib.pyplot as plt\n",
    "from sklearn.cluster import KMeans\n",
    "from matplotlib import style\n",
    "style.use('ggplot')"
   ]
  },
  {
   "cell_type": "code",
   "execution_count": 6,
   "id": "1ec6440b",
   "metadata": {},
   "outputs": [],
   "source": [
    "my_input =np.array( [ [4,2] ,[6,6] ,[2.6,4] ,[7,8],[3.5,5]  ,[6,11]])"
   ]
  },
  {
   "cell_type": "code",
   "execution_count": 11,
   "id": "01e8b964",
   "metadata": {},
   "outputs": [
    {
     "data": {
      "text/plain": [
       "KMeans(n_clusters=2)"
      ]
     },
     "execution_count": 11,
     "metadata": {},
     "output_type": "execute_result"
    }
   ],
   "source": [
    "my_model = KMeans(n_clusters=2)\n",
    "my_model.fit(my_input)"
   ]
  },
  {
   "cell_type": "code",
   "execution_count": 12,
   "id": "d709fc11",
   "metadata": {},
   "outputs": [
    {
     "data": {
      "text/plain": [
       "array([[6.33333333, 8.33333333],\n",
       "       [3.36666667, 3.66666667]])"
      ]
     },
     "execution_count": 12,
     "metadata": {},
     "output_type": "execute_result"
    }
   ],
   "source": [
    "my_model.cluster_centers_"
   ]
  },
  {
   "cell_type": "code",
   "execution_count": 13,
   "id": "2ff90b76",
   "metadata": {},
   "outputs": [
    {
     "data": {
      "text/plain": [
       "array([1, 0, 1, 0, 1, 0])"
      ]
     },
     "execution_count": 13,
     "metadata": {},
     "output_type": "execute_result"
    }
   ],
   "source": [
    "my_model.labels_"
   ]
  },
  {
   "cell_type": "code",
   "execution_count": 14,
   "id": "58b832a2",
   "metadata": {},
   "outputs": [],
   "source": [
    "colors =[\"g.\"  ,\"r.\" ,\"c.\",\"y.\"     ]"
   ]
  },
  {
   "cell_type": "code",
   "execution_count": 20,
   "id": "a847a61b",
   "metadata": {},
   "outputs": [
    {
     "data": {
      "text/plain": [
       "<matplotlib.collections.PathCollection at 0x224e27bbe50>"
      ]
     },
     "execution_count": 20,
     "metadata": {},
     "output_type": "execute_result"
    },
    {
     "data": {
      "image/png": "[encoded data removed]",
      "text/plain": [
       "<Figure size 640x480 with 1 Axes>"
      ]
     },
     "metadata": {},
     "output_type": "display_data"
    }
   ],
   "source": [
    "plt.scatter(my_input[:,0]  ,my_input[:,1] ,  c=my_model.labels_)\n",
    "plt.scatter(my_model.cluster_centers_[:,0] , my_model.cluster_centers_[:,1] , marker=\"x\" ,s=250 , linewidths=5)"
   ]
  },
  {
   "cell_type": "code",
   "execution_count": null,
   "id": "340f9df4",
   "metadata": {},
   "outputs": [],
   "source": []
  }
 ],
 "metadata": {
  "kernelspec": {
   "display_name": "Python 3 (ipykernel)",
   "language": "python",
   "name": "python3"
  },
  "language_info": {
   "codemirror_mode": {
    "name": "ipython",
    "version": 3
   },
   "file_extension": ".py",
   "mimetype": "text/x-python",
   "name": "python",
   "nbconvert_exporter": "python",
   "pygments_lexer": "ipython3",
   "version": "3.9.7"
  }
 },
 "nbformat": 4,
 "nbformat_minor": 5
}
