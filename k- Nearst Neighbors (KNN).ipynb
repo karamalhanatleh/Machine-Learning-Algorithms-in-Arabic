{
 "cells": [
  {
   "cell_type": "markdown",
   "id": "9fe2ee5b",
   "metadata": {},
   "source": [
    "# k- Nearst Neighbors (KNN)"
   ]
  },
  {
   "cell_type": "markdown",
   "id": "ae94f59d",
   "metadata": {},
   "source": [
    "<img src =\"k- Nearst Neighbors (KNN).png\"></img>"
   ]
  },
  {
   "cell_type": "markdown",
   "id": "105d8056",
   "metadata": {},
   "source": [
    "## supervised - classification - Regression"
   ]
  },
  {
   "cell_type": "markdown",
   "id": "4bffb023",
   "metadata": {},
   "source": [
    "## التعلم بأشراف - توقع -تصنيف"
   ]
  },
  {
   "cell_type": "code",
   "execution_count": 2,
   "id": "31538f24",
   "metadata": {},
   "outputs": [],
   "source": [
    "from sklearn.neighbors import KNeighborsClassifier"
   ]
  },
  {
   "cell_type": "code",
   "execution_count": 3,
   "id": "a7bf39e7",
   "metadata": {},
   "outputs": [],
   "source": [
    "X= [ [0] ,[1] , [2] ,[3] ]\n",
    "y=[0,0  ,1 , 1 ]"
   ]
  },
  {
   "cell_type": "code",
   "execution_count": 4,
   "id": "dd593d16",
   "metadata": {},
   "outputs": [],
   "source": [
    "neigh  = KNeighborsClassifier(n_neighbors=3)"
   ]
  },
  {
   "cell_type": "code",
   "execution_count": 5,
   "id": "0ed810ba",
   "metadata": {},
   "outputs": [
    {
     "data": {
      "text/plain": [
       "KNeighborsClassifier(n_neighbors=3)"
      ]
     },
     "execution_count": 5,
     "metadata": {},
     "output_type": "execute_result"
    }
   ],
   "source": [
    "neigh.fit(X,y)"
   ]
  },
  {
   "cell_type": "code",
   "execution_count": 6,
   "id": "8e3a17e3",
   "metadata": {},
   "outputs": [
    {
     "data": {
      "text/plain": [
       "array([0])"
      ]
     },
     "execution_count": 6,
     "metadata": {},
     "output_type": "execute_result"
    }
   ],
   "source": [
    "neigh.predict([[1.1]])"
   ]
  },
  {
   "cell_type": "code",
   "execution_count": 7,
   "id": "7a584285",
   "metadata": {},
   "outputs": [
    {
     "data": {
      "text/plain": [
       "array([[0.66666667, 0.33333333]])"
      ]
     },
     "execution_count": 7,
     "metadata": {},
     "output_type": "execute_result"
    }
   ],
   "source": [
    "neigh.predict_proba([[0.9]])"
   ]
  },
  {
   "cell_type": "code",
   "execution_count": null,
   "id": "3c7da896",
   "metadata": {},
   "outputs": [],
   "source": []
  },
  {
   "cell_type": "code",
   "execution_count": null,
   "id": "8c840153",
   "metadata": {},
   "outputs": [],
   "source": []
  },
  {
   "cell_type": "code",
   "execution_count": null,
   "id": "37090711",
   "metadata": {},
   "outputs": [],
   "source": []
  }
 ],
 "metadata": {
  "kernelspec": {
   "display_name": "Python 3 (ipykernel)",
   "language": "python",
   "name": "python3"
  },
  "language_info": {
   "codemirror_mode": {
    "name": "ipython",
    "version": 3
   },
   "file_extension": ".py",
   "mimetype": "text/x-python",
   "name": "python",
   "nbconvert_exporter": "python",
   "pygments_lexer": "ipython3",
   "version": "3.9.7"
  }
 },
 "nbformat": 4,
 "nbformat_minor": 5
}
