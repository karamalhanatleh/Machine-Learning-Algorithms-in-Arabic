{
 "cells": [
  {
   "cell_type": "markdown",
   "id": "c3f4b31d",
   "metadata": {},
   "source": [
    "# Logistic Regression"
   ]
  },
  {
   "cell_type": "markdown",
   "id": "b7f27c27",
   "metadata": {},
   "source": [
    "### Supervised -Classification"
   ]
  },
  {
   "cell_type": "markdown",
   "id": "fe6ecb41",
   "metadata": {},
   "source": [
    "### النتيجة متغير ثنائي"
   ]
  },
  {
   "cell_type": "code",
   "execution_count": 4,
   "id": "42818c95",
   "metadata": {},
   "outputs": [],
   "source": [
    "from sklearn.linear_model import LogisticRegression"
   ]
  },
  {
   "cell_type": "code",
   "execution_count": 75,
   "id": "574dc464",
   "metadata": {},
   "outputs": [
    {
     "data": {
      "text/plain": [
       "[[1.47], [1.5], [1.52], [0.55], [1.57], [1.6], [1.63], [1.65], [1.68], [1.7]]"
      ]
     },
     "execution_count": 75,
     "metadata": {},
     "output_type": "execute_result"
    }
   ],
   "source": [
    "X= [ [1.47] , [1.5] , [1.52] , [.55] , [1.57] , [1.60] , [1.63]  , [1.65] , [1.68] , [1.70] ]  \n",
    "X"
   ]
  },
  {
   "cell_type": "code",
   "execution_count": 76,
   "id": "37ec982d",
   "metadata": {},
   "outputs": [],
   "source": [
    "Y=[1,1,1,1,1,0,0,0,0,0]"
   ]
  },
  {
   "cell_type": "code",
   "execution_count": 77,
   "id": "7afb4043",
   "metadata": {},
   "outputs": [],
   "source": [
    "test_data= [ [1.0],[1.6] ,[1.9] ]"
   ]
  },
  {
   "cell_type": "code",
   "execution_count": 78,
   "id": "71165fba",
   "metadata": {},
   "outputs": [],
   "source": [
    "model= LogisticRegression()"
   ]
  },
  {
   "cell_type": "code",
   "execution_count": 79,
   "id": "4384488c",
   "metadata": {},
   "outputs": [
    {
     "data": {
      "text/plain": [
       "LogisticRegression()"
      ]
     },
     "execution_count": 79,
     "metadata": {},
     "output_type": "execute_result"
    }
   ],
   "source": [
    "model.fit(X,Y)"
   ]
  },
  {
   "cell_type": "code",
   "execution_count": 81,
   "id": "8ffa2084",
   "metadata": {},
   "outputs": [
    {
     "data": {
      "text/plain": [
       "0.7"
      ]
     },
     "execution_count": 81,
     "metadata": {},
     "output_type": "execute_result"
    }
   ],
   "source": [
    "model.score(X,Y)"
   ]
  },
  {
   "cell_type": "code",
   "execution_count": 85,
   "id": "1c5e4cd2",
   "metadata": {},
   "outputs": [
    {
     "data": {
      "text/plain": [
       "array([[-0.65980678]])"
      ]
     },
     "execution_count": 85,
     "metadata": {},
     "output_type": "execute_result"
    }
   ],
   "source": [
    "model.coef_  #m"
   ]
  },
  {
   "cell_type": "code",
   "execution_count": 86,
   "id": "5da28bee",
   "metadata": {},
   "outputs": [
    {
     "data": {
      "text/plain": [
       "array([0.98298622])"
      ]
     },
     "execution_count": 86,
     "metadata": {},
     "output_type": "execute_result"
    }
   ],
   "source": [
    "model.intercept_  #b"
   ]
  },
  {
   "cell_type": "code",
   "execution_count": 87,
   "id": "ac8e1167",
   "metadata": {},
   "outputs": [
    {
     "data": {
      "text/plain": [
       "array([1, 0, 0])"
      ]
     },
     "execution_count": 87,
     "metadata": {},
     "output_type": "execute_result"
    }
   ],
   "source": [
    "model.predict(test_data)"
   ]
  },
  {
   "cell_type": "code",
   "execution_count": null,
   "id": "4c719329",
   "metadata": {},
   "outputs": [],
   "source": []
  }
 ],
 "metadata": {
  "kernelspec": {
   "display_name": "Python 3 (ipykernel)",
   "language": "python",
   "name": "python3"
  },
  "language_info": {
   "codemirror_mode": {
    "name": "ipython",
    "version": 3
   },
   "file_extension": ".py",
   "mimetype": "text/x-python",
   "name": "python",
   "nbconvert_exporter": "python",
   "pygments_lexer": "ipython3",
   "version": "3.9.7"
  }
 },
 "nbformat": 4,
 "nbformat_minor": 5
}
