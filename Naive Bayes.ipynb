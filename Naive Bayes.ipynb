{
 "cells": [
  {
   "cell_type": "markdown",
   "id": "bf84e3b3",
   "metadata": {},
   "source": [
    "# Naive Bayes"
   ]
  },
  {
   "cell_type": "markdown",
   "id": "d615b750",
   "metadata": {},
   "source": [
    "<img src=\"Naive Bayes.png\"></img>"
   ]
  },
  {
   "cell_type": "markdown",
   "id": "d489d3e9",
   "metadata": {},
   "source": [
    "### Supervised - classification "
   ]
  },
  {
   "cell_type": "markdown",
   "id": "1ec7dfa9",
   "metadata": {},
   "source": [
    "### تصنيف - تعلم بأشراف"
   ]
  },
  {
   "cell_type": "code",
   "execution_count": 3,
   "id": "5c42d3e5",
   "metadata": {},
   "outputs": [],
   "source": [
    "import numpy as np"
   ]
  },
  {
   "cell_type": "code",
   "execution_count": 4,
   "id": "35e40620",
   "metadata": {},
   "outputs": [],
   "source": [
    "from sklearn.naive_bayes import GaussianNB"
   ]
  },
  {
   "cell_type": "code",
   "execution_count": null,
   "id": "c1d1cc48",
   "metadata": {},
   "outputs": [],
   "source": []
  },
  {
   "cell_type": "code",
   "execution_count": 5,
   "id": "ae8d91d4",
   "metadata": {},
   "outputs": [],
   "source": [
    "X=np.array( [   [-1,-1] , [-2,-1] , [-3,-2] , [1,1]  ,[2,1] , [3,2]  ] )"
   ]
  },
  {
   "cell_type": "code",
   "execution_count": 6,
   "id": "d3b11a67",
   "metadata": {},
   "outputs": [],
   "source": [
    "Y=np.array([1,1,1,2,2,2])"
   ]
  },
  {
   "cell_type": "code",
   "execution_count": 7,
   "id": "8acd9964",
   "metadata": {},
   "outputs": [],
   "source": [
    "clf = GaussianNB()"
   ]
  },
  {
   "cell_type": "code",
   "execution_count": 8,
   "id": "54bb7cc6",
   "metadata": {},
   "outputs": [
    {
     "data": {
      "text/plain": [
       "GaussianNB()"
      ]
     },
     "execution_count": 8,
     "metadata": {},
     "output_type": "execute_result"
    }
   ],
   "source": [
    "clf.fit(X,Y)"
   ]
  },
  {
   "cell_type": "code",
   "execution_count": 9,
   "id": "a2484f39",
   "metadata": {},
   "outputs": [
    {
     "data": {
      "text/plain": [
       "array([1])"
      ]
     },
     "execution_count": 9,
     "metadata": {},
     "output_type": "execute_result"
    }
   ],
   "source": [
    "clf.predict([[-0.8 , -1]])"
   ]
  },
  {
   "cell_type": "code",
   "execution_count": null,
   "id": "2a967dbc",
   "metadata": {},
   "outputs": [],
   "source": []
  }
 ],
 "metadata": {
  "kernelspec": {
   "display_name": "Python 3 (ipykernel)",
   "language": "python",
   "name": "python3"
  },
  "language_info": {
   "codemirror_mode": {
    "name": "ipython",
    "version": 3
   },
   "file_extension": ".py",
   "mimetype": "text/x-python",
   "name": "python",
   "nbconvert_exporter": "python",
   "pygments_lexer": "ipython3",
   "version": "3.9.7"
  }
 },
 "nbformat": 4,
 "nbformat_minor": 5
}
