{
 "cells": [
  {
   "cell_type": "markdown",
   "id": "dd013c1b",
   "metadata": {},
   "source": [
    "# Linear Regression"
   ]
  },
  {
   "cell_type": "markdown",
   "id": "d796bb20",
   "metadata": {},
   "source": [
    "y=ax+b"
   ]
  },
  {
   "cell_type": "markdown",
   "id": "3bceb0c0",
   "metadata": {},
   "source": [
    "Y – Dependent Variable <br>\n",
    "a – Slope <br>\n",
    "X – Independent variable <br>\n",
    "b – Intercept <br>"
   ]
  },
  {
   "cell_type": "code",
   "execution_count": 6,
   "id": "18172266",
   "metadata": {},
   "outputs": [],
   "source": [
    "import matplotlib.pyplot as plt\n",
    "from sklearn import linear_model"
   ]
  },
  {
   "cell_type": "code",
   "execution_count": 23,
   "id": "ed2d99e5",
   "metadata": {},
   "outputs": [
    {
     "data": {
      "text/plain": [
       "[[1.47],\n",
       " [1.5],\n",
       " [1.52],\n",
       " [1.55],\n",
       " [1.57],\n",
       " [1.6],\n",
       " [1.63],\n",
       " [1.65],\n",
       " [1.68],\n",
       " [1.7],\n",
       " [1.73],\n",
       " [1.75],\n",
       " [1.78],\n",
       " [1.8],\n",
       " [1.83]]"
      ]
     },
     "execution_count": 23,
     "metadata": {},
     "output_type": "execute_result"
    }
   ],
   "source": [
    "X = [[1.47], [1.50], [1.52], [1.55], [1.57], [1.60], [1.63], [1.65], [1.68],\n",
    "[1.70], [1.73], [1.75], [1.78], [1.80], [1.83]]\n",
    "X"
   ]
  },
  {
   "cell_type": "code",
   "execution_count": 4,
   "id": "a0c6852c",
   "metadata": {
    "collapsed": true
   },
   "outputs": [
    {
     "data": {
      "text/plain": [
       "[52.21,\n",
       " 53.12,\n",
       " 54.48,\n",
       " 55.84,\n",
       " 57.2,\n",
       " 58.57,\n",
       " 59.93,\n",
       " 61.29,\n",
       " 63.11,\n",
       " 64.47,\n",
       " 66.28,\n",
       " 68.1,\n",
       " 69.92,\n",
       " 72.19,\n",
       " 74.46]"
      ]
     },
     "execution_count": 4,
     "metadata": {},
     "output_type": "execute_result"
    }
   ],
   "source": [
    "\n",
    "Y = [52.21, 53.12, 54.48, 55.84, 57.20, 58.57, 59.93, 61.29, 63.11, 64.47,\n",
    "66.28, 68.10, 69.92, 72.19, 74.46]\n",
    "Y\n"
   ]
  },
  {
   "cell_type": "code",
   "execution_count": 10,
   "id": "fb142f5b",
   "metadata": {},
   "outputs": [],
   "source": [
    "test_data = [[1.3], [1.6], [1.9]]\n"
   ]
  },
  {
   "cell_type": "code",
   "execution_count": 18,
   "id": "7b2fd0f7",
   "metadata": {},
   "outputs": [
    {
     "data": {
      "text/plain": [
       "LinearRegression()"
      ]
     },
     "execution_count": 18,
     "metadata": {},
     "output_type": "execute_result"
    }
   ],
   "source": [
    "\n",
    "model = linear_model.LinearRegression()\n",
    "\n",
    "model.fit(X, Y)\n"
   ]
  },
  {
   "cell_type": "code",
   "execution_count": 22,
   "id": "288ad3bd",
   "metadata": {},
   "outputs": [
    {
     "name": "stdout",
     "output_type": "stream",
     "text": [
      "Score : 0.9891969224457968\n",
      "predicition : [40.59188659 58.97354255 77.35519851]\n",
      "Coefficient:  61.27218654211063\n",
      "Intercept:  -39.061955918843935\n"
     ]
    }
   ],
   "source": [
    "print (\"Score :\",model.score(X ,Y))\n",
    "\n",
    "print(\"predicition :\", model.predict(test_data))\n",
    "\n",
    "print('Coefficient: ', model.coef_[0])\n",
    "print('Intercept: ', model.intercept_)\n"
   ]
  },
  {
   "cell_type": "code",
   "execution_count": 26,
   "id": "0ffa8260",
   "metadata": {},
   "outputs": [
    {
     "data": {
      "text/plain": [
       "-39.061955918843935"
      ]
     },
     "execution_count": 26,
     "metadata": {},
     "output_type": "execute_result"
    }
   ],
   "source": [
    "a=model.coef_[0]\n",
    "b=model. intercept_\n",
    "b\n"
   ]
  },
  {
   "cell_type": "code",
   "execution_count": 30,
   "id": "a939e05e",
   "metadata": {},
   "outputs": [
    {
     "data": {
      "image/png": "[encoded data removed]",
      "text/plain": [
       "<Figure size 640x480 with 1 Axes>"
      ]
     },
     "metadata": {},
     "output_type": "display_data"
    }
   ],
   "source": [
    "\n",
    "ablineValues = []\n",
    "for i in X:\n",
    "    ablineValues.append(a * i[0] + b)\n",
    "\n",
    "plt.scatter(X, Y)\n",
    "plt.plot(X, ablineValues, 'r')\n",
    "plt.show()"
   ]
  },
  {
   "cell_type": "code",
   "execution_count": null,
   "id": "edc46584",
   "metadata": {},
   "outputs": [],
   "source": []
  }
 ],
 "metadata": {
  "kernelspec": {
   "display_name": "Python 3 (ipykernel)",
   "language": "python",
   "name": "python3"
  },
  "language_info": {
   "codemirror_mode": {
    "name": "ipython",
    "version": 3
   },
   "file_extension": ".py",
   "mimetype": "text/x-python",
   "name": "python",
   "nbconvert_exporter": "python",
   "pygments_lexer": "ipython3",
   "version": "3.9.7"
  }
 },
 "nbformat": 4,
 "nbformat_minor": 5
}
