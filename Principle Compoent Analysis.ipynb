{
 "cells": [
  {
   "cell_type": "markdown",
   "id": "34aaa48e",
   "metadata": {},
   "source": [
    "# Principle Compoent Analysis"
   ]
  },
  {
   "cell_type": "markdown",
   "id": "6ec03285",
   "metadata": {},
   "source": [
    "<img src=\"Principle Compoent Analysis.png\"></img>"
   ]
  },
  {
   "cell_type": "markdown",
   "id": "739f67e2",
   "metadata": {},
   "source": [
    "### لتقليل الابعاد"
   ]
  },
  {
   "cell_type": "markdown",
   "id": "847ca0eb",
   "metadata": {},
   "source": [
    "### يمكن استخدامه لضغط البيانات"
   ]
  },
  {
   "cell_type": "code",
   "execution_count": 2,
   "id": "01f15459",
   "metadata": {},
   "outputs": [],
   "source": [
    "import numpy as np\n",
    "import matplotlib.pyplot as plt\n",
    "\n",
    "from sklearn.decomposition import PCA\n",
    "from matplotlib import style\n",
    "style.use(\"ggplot\")\n"
   ]
  },
  {
   "cell_type": "code",
   "execution_count": 20,
   "id": "1f860169",
   "metadata": {},
   "outputs": [],
   "source": [
    "\n",
    "rng = np.random.RandomState(1)\n",
    "my_input = np.dot(rng.rand(2, 2), rng.randn(2, 100)).T\n"
   ]
  },
  {
   "cell_type": "code",
   "execution_count": 21,
   "id": "de20f791",
   "metadata": {},
   "outputs": [
    {
     "data": {
      "text/plain": [
       "RandomState(MT19937) at 0x2A47729D440"
      ]
     },
     "execution_count": 21,
     "metadata": {},
     "output_type": "execute_result"
    }
   ],
   "source": [
    "rng"
   ]
  },
  {
   "cell_type": "code",
   "execution_count": 17,
   "id": "e1179d40",
   "metadata": {},
   "outputs": [
    {
     "data": {
      "text/plain": [
       "array([[-0.45250425, -0.09753763],\n",
       "       [-0.72409528, -0.11623486],\n",
       "       [ 1.17757592,  0.34287441],\n",
       "       [-1.7520709 , -0.33279619],\n",
       "       [ 0.60342064, -0.0519311 ],\n",
       "       [-0.94978295, -0.26549226],\n",
       "       [ 0.16345392,  0.01279908],\n",
       "       [ 0.31582314,  0.1761755 ],\n",
       "       [-0.18307177, -0.3325858 ],\n",
       "       [-0.03455148,  0.34585164]])"
      ]
     },
     "execution_count": 17,
     "metadata": {},
     "output_type": "execute_result"
    }
   ],
   "source": [
    "my_input"
   ]
  },
  {
   "cell_type": "code",
   "execution_count": 27,
   "id": "b584c47f",
   "metadata": {},
   "outputs": [
    {
     "data": {
      "text/plain": [
       "PCA(n_components=1)"
      ]
     },
     "execution_count": 27,
     "metadata": {},
     "output_type": "execute_result"
    }
   ],
   "source": [
    "\n",
    "my_model = PCA(n_components=1)\n",
    "my_model. fit(my_input)"
   ]
  },
  {
   "cell_type": "code",
   "execution_count": null,
   "id": "a84d99f0",
   "metadata": {},
   "outputs": [],
   "source": []
  },
  {
   "cell_type": "code",
   "execution_count": 30,
   "id": "99e79fec",
   "metadata": {
    "scrolled": true
   },
   "outputs": [
    {
     "data": {
      "text/plain": [
       "array([[-0.03512501],\n",
       "       [-0.10364221],\n",
       "       [-0.6474905 ],\n",
       "       [-0.9218211 ],\n",
       "       [ 1.1301744 ],\n",
       "       [-1.1838239 ],\n",
       "       [-0.21969111],\n",
       "       [-0.21296666],\n",
       "       [-0.62692396],\n",
       "       [-0.71248039],\n",
       "       [ 0.39108622],\n",
       "       [-0.96069812],\n",
       "       [ 0.58392806],\n",
       "       [-1.59741238],\n",
       "       [-0.23789016],\n",
       "       [-1.74536787],\n",
       "       [ 0.75014157],\n",
       "       [ 0.41045524],\n",
       "       [-0.59568505],\n",
       "       [-0.2877059 ],\n",
       "       [ 1.21009779],\n",
       "       [ 1.59108258],\n",
       "       [-1.22720176],\n",
       "       [ 0.55103211],\n",
       "       [ 1.07848197],\n",
       "       [-0.24800899],\n",
       "       [-1.17893082],\n",
       "       [ 0.74324697],\n",
       "       [-0.55484439],\n",
       "       [-0.76684799],\n",
       "       [-1.36946336],\n",
       "       [-0.04664988],\n",
       "       [ 0.21098596],\n",
       "       [-0.6295176 ],\n",
       "       [-0.17806594],\n",
       "       [-0.93663436],\n",
       "       [ 1.14410698],\n",
       "       [ 0.19175856],\n",
       "       [-0.3606708 ],\n",
       "       [-0.57108761],\n",
       "       [ 0.2400299 ],\n",
       "       [ 1.11704299],\n",
       "       [ 0.29291937],\n",
       "       [-0.28518713],\n",
       "       [-0.00287239],\n",
       "       [ 1.17631122],\n",
       "       [ 0.08937896],\n",
       "       [ 0.63706225],\n",
       "       [-0.26134735],\n",
       "       [-2.17392263],\n",
       "       [ 0.215202  ],\n",
       "       [ 1.42376723],\n",
       "       [ 0.12118836],\n",
       "       [ 0.01583886],\n",
       "       [ 0.08785694],\n",
       "       [ 0.13798642],\n",
       "       [-0.01227157],\n",
       "       [-0.66074441],\n",
       "       [-0.84136737],\n",
       "       [-0.4173901 ],\n",
       "       [ 0.25810605],\n",
       "       [-0.48853819],\n",
       "       [ 0.44015705],\n",
       "       [-0.3052475 ],\n",
       "       [ 1.07782655],\n",
       "       [ 0.63067843],\n",
       "       [ 2.43373056],\n",
       "       [-2.16975567],\n",
       "       [-1.21639973],\n",
       "       [ 0.36181513],\n",
       "       [ 1.89175631],\n",
       "       [ 0.01532763],\n",
       "       [ 0.02009999],\n",
       "       [-1.11876348],\n",
       "       [ 0.77516792],\n",
       "       [-0.03391295],\n",
       "       [ 0.48134134],\n",
       "       [-0.0854043 ],\n",
       "       [-1.21786309],\n",
       "       [ 0.02495823],\n",
       "       [ 0.3264008 ],\n",
       "       [ 1.02997071],\n",
       "       [-0.14644241],\n",
       "       [-0.57240642],\n",
       "       [ 0.03220442],\n",
       "       [ 0.19805441],\n",
       "       [ 0.12752395],\n",
       "       [ 0.2525493 ],\n",
       "       [ 1.2399621 ],\n",
       "       [ 0.22180818],\n",
       "       [ 1.19376877],\n",
       "       [ 0.47155452],\n",
       "       [ 0.5418178 ],\n",
       "       [-1.3749661 ],\n",
       "       [ 0.19282124],\n",
       "       [ 0.20509219],\n",
       "       [ 0.24546425],\n",
       "       [ 0.95078438],\n",
       "       [-0.62886047],\n",
       "       [ 0.98840598]])"
      ]
     },
     "execution_count": 30,
     "metadata": {},
     "output_type": "execute_result"
    }
   ],
   "source": [
    "my_input_pca = my_model.transform(my_input)\n",
    "\n",
    "\n",
    "my_input_pca\n",
    "\n"
   ]
  },
  {
   "cell_type": "code",
   "execution_count": 31,
   "id": "c0cf64e3",
   "metadata": {},
   "outputs": [
    {
     "name": "stdout",
     "output_type": "stream",
     "text": [
      "The Original shape  (100, 2)\n",
      "The transformed shape  (100, 1)\n"
     ]
    }
   ],
   "source": [
    "\n",
    "print(\"The Original shape \", my_input.shape)\n",
    "print(\"The transformed shape \", my_input_pca.shape)"
   ]
  },
  {
   "cell_type": "code",
   "execution_count": 32,
   "id": "580525a6",
   "metadata": {},
   "outputs": [
    {
     "data": {
      "text/plain": [
       "<matplotlib.collections.PathCollection at 0x2a476e613a0>"
      ]
     },
     "execution_count": 32,
     "metadata": {},
     "output_type": "execute_result"
    },
    {
     "data": {
      "image/png": "[encoded data removed]",
      "text/plain": [
       "<Figure size 640x480 with 1 Axes>"
      ]
     },
     "metadata": {},
     "output_type": "display_data"
    }
   ],
   "source": [
    "my_input_newvalues = my_model.inverse_transform(my_input_pca)\n",
    "plt.scatter(my_input[:, 0], my_input[:, 1])\n",
    "plt.scatter(my_input_newvalues[:, 0], my_input_newvalues[:, 1])"
   ]
  },
  {
   "cell_type": "code",
   "execution_count": null,
   "id": "0804f063",
   "metadata": {},
   "outputs": [],
   "source": []
  }
 ],
 "metadata": {
  "kernelspec": {
   "display_name": "Python 3 (ipykernel)",
   "language": "python",
   "name": "python3"
  },
  "language_info": {
   "codemirror_mode": {
    "name": "ipython",
    "version": 3
   },
   "file_extension": ".py",
   "mimetype": "text/x-python",
   "name": "python",
   "nbconvert_exporter": "python",
   "pygments_lexer": "ipython3",
   "version": "3.9.7"
  }
 },
 "nbformat": 4,
 "nbformat_minor": 5
}
