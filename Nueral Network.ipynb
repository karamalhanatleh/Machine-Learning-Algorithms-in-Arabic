{
 "cells": [
  {
   "cell_type": "markdown",
   "id": "1aaad048",
   "metadata": {},
   "source": [
    "### من الخوارزميات المعروفة والمستخدمة في التعلم الالي والتعلم العميق"
   ]
  },
  {
   "cell_type": "markdown",
   "id": "1cc8f7c7",
   "metadata": {},
   "source": [
    "### تقوم الخوارزمية بالتدريب عن طريق ضبط الاوزان في العفد وتمريرها الى الطبقات الاخرى للتدريب واخراج التائج"
   ]
  },
  {
   "cell_type": "code",
   "execution_count": 1,
   "id": "5897ff69",
   "metadata": {},
   "outputs": [],
   "source": [
    "from sklearn.neural_network import MLPClassifier"
   ]
  },
  {
   "cell_type": "code",
   "execution_count": 2,
   "id": "0dc51ae8",
   "metadata": {},
   "outputs": [],
   "source": [
    "import numpy as np"
   ]
  },
  {
   "cell_type": "code",
   "execution_count": 9,
   "id": "3def7a29",
   "metadata": {},
   "outputs": [
    {
     "data": {
      "text/plain": [
       "array([[0, 0],\n",
       "       [0, 1],\n",
       "       [1, 0],\n",
       "       [1, 1]])"
      ]
     },
     "execution_count": 9,
     "metadata": {},
     "output_type": "execute_result"
    }
   ],
   "source": [
    "xs = np.array( [\n",
    "    0,0,\n",
    "    0,1,\n",
    "    1,0,\n",
    "    1,1\n",
    "]).reshape(4,2)\n",
    "xs"
   ]
  },
  {
   "cell_type": "code",
   "execution_count": 8,
   "id": "91bec357",
   "metadata": {},
   "outputs": [
    {
     "data": {
      "text/plain": [
       "array([0, 1, 1, 0])"
      ]
     },
     "execution_count": 8,
     "metadata": {},
     "output_type": "execute_result"
    }
   ],
   "source": [
    "ys = np.array([0,1,1,0]).reshape(4,)\n",
    "ys"
   ]
  },
  {
   "cell_type": "code",
   "execution_count": 23,
   "id": "1e9ea3c9",
   "metadata": {},
   "outputs": [],
   "source": [
    "model = MLPClassifier( max_iter=10000  ,  hidden_layer_sizes=(8,2))"
   ]
  },
  {
   "cell_type": "code",
   "execution_count": 24,
   "id": "d51b3a08",
   "metadata": {},
   "outputs": [
    {
     "data": {
      "text/plain": [
       "MLPClassifier(hidden_layer_sizes=(8, 2), max_iter=10000)"
      ]
     },
     "execution_count": 24,
     "metadata": {},
     "output_type": "execute_result"
    }
   ],
   "source": [
    "model.fit(xs,ys)"
   ]
  },
  {
   "cell_type": "code",
   "execution_count": 25,
   "id": "a4b07c12",
   "metadata": {},
   "outputs": [
    {
     "data": {
      "text/plain": [
       "0.75"
      ]
     },
     "execution_count": 25,
     "metadata": {},
     "output_type": "execute_result"
    }
   ],
   "source": [
    "model.score(xs,ys)"
   ]
  },
  {
   "cell_type": "code",
   "execution_count": 26,
   "id": "fdc5a07b",
   "metadata": {},
   "outputs": [
    {
     "data": {
      "text/plain": [
       "array([0, 1, 1, 1])"
      ]
     },
     "execution_count": 26,
     "metadata": {},
     "output_type": "execute_result"
    }
   ],
   "source": [
    "model.predict(xs)"
   ]
  },
  {
   "cell_type": "code",
   "execution_count": null,
   "id": "209e3491",
   "metadata": {},
   "outputs": [],
   "source": []
  }
 ],
 "metadata": {
  "kernelspec": {
   "display_name": "Python 3 (ipykernel)",
   "language": "python",
   "name": "python3"
  },
  "language_info": {
   "codemirror_mode": {
    "name": "ipython",
    "version": 3
   },
   "file_extension": ".py",
   "mimetype": "text/x-python",
   "name": "python",
   "nbconvert_exporter": "python",
   "pygments_lexer": "ipython3",
   "version": "3.9.7"
  }
 },
 "nbformat": 4,
 "nbformat_minor": 5
}
